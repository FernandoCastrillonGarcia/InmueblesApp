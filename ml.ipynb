{
 "cells": [
  {
   "cell_type": "code",
   "execution_count": 77,
   "id": "a0dbaf22",
   "metadata": {},
   "outputs": [
    {
     "name": "stdout",
     "output_type": "stream",
     "text": [
      "The autoreload extension is already loaded. To reload it, use:\n",
      "  %reload_ext autoreload\n"
     ]
    }
   ],
   "source": [
    "%load_ext autoreload\n",
    "%autoreload 2"
   ]
  },
  {
   "cell_type": "code",
   "execution_count": 78,
   "id": "20cf7889",
   "metadata": {},
   "outputs": [],
   "source": [
    "import pickle\n",
    "import json\n",
    "from rich import print"
   ]
  },
  {
   "cell_type": "code",
   "execution_count": 79,
   "id": "1590dd95",
   "metadata": {},
   "outputs": [],
   "source": [
    "# Condif With Feature names\n",
    "with open('src/config.json', 'r') as f:\n",
    "    config_dict = json.load(f)\n",
    "\n",
    "y_column = config_dict['y_column']\n",
    "numeric_features = config_dict['numeric_features']\n",
    "categorical_features = config_dict['categorical_features']\n",
    "all_features = numeric_features + categorical_features\n",
    "\n",
    "# Processed Data\n",
    "with open('data/processed/ml_data.pkl', 'rb') as f:\n",
    "    data_dict = pickle.load(f)\n",
    "\n",
    "X_train = data_dict['X_train']\n",
    "X_test = data_dict['X_test']\n",
    "y_train = data_dict['y_train']\n",
    "y_test = data_dict['y_test']\n",
    "feature_names = data_dict['feature_names']\n",
    "X_preprocessor = data_dict['X_preprocessor']\n",
    "y_preprocessor = data_dict['y_preprocessor']"
   ]
  },
  {
   "cell_type": "code",
   "execution_count": 80,
   "id": "b6258153",
   "metadata": {},
   "outputs": [
    {
     "data": {
      "text/plain": [
       "array([[ 0.13907964,  0.13907964, -0.00963163, ...,  0.        ,\n",
       "         0.        ,  0.        ],\n",
       "       [-0.50730151, -0.50730151, -0.01059335, ...,  0.        ,\n",
       "         0.        ,  0.        ],\n",
       "       [-0.64581176, -0.64581176, -0.01022832, ...,  0.        ,\n",
       "         0.        ,  0.        ],\n",
       "       ...,\n",
       "       [-0.73815192, -0.73815192, -0.01059335, ...,  0.        ,\n",
       "         0.        ,  0.        ],\n",
       "       [ 1.459544  ,  1.459544  , -0.00862779, ...,  0.        ,\n",
       "         0.        ,  0.        ],\n",
       "       [-0.57193963, -0.57193963, -0.01017216, ...,  0.        ,\n",
       "         0.        ,  0.        ]], shape=(20406, 35))"
      ]
     },
     "execution_count": 80,
     "metadata": {},
     "output_type": "execute_result"
    }
   ],
   "source": [
    "X_train"
   ]
  },
  {
   "cell_type": "code",
   "execution_count": 81,
   "id": "11b456a7",
   "metadata": {},
   "outputs": [
    {
     "data": {
      "text/plain": [
       "array([[ 0.86856695,  0.86856695, -0.01008792, ...,  0.        ,\n",
       "         0.        ,  0.        ],\n",
       "       [-0.2764511 , -0.2764511 , -0.01059335, ...,  0.        ,\n",
       "         0.        ,  0.        ],\n",
       "       [ 1.15482146,  1.15482146, -0.01059335, ...,  0.        ,\n",
       "         0.        ,  0.        ],\n",
       "       ...,\n",
       "       [-0.56270561, -0.56270561, -0.01020726, ...,  0.        ,\n",
       "         0.        ,  0.        ],\n",
       "       [-0.02713265, -0.02713265, -0.00975799, ...,  0.        ,\n",
       "         0.        ,  0.        ],\n",
       "       [ 2.2444354 ,  2.2444354 , -0.00803111, ...,  0.        ,\n",
       "         0.        ,  0.        ]], shape=(5102, 35))"
      ]
     },
     "execution_count": 81,
     "metadata": {},
     "output_type": "execute_result"
    }
   ],
   "source": [
    "X_test"
   ]
  },
  {
   "cell_type": "markdown",
   "id": "7079c179",
   "metadata": {},
   "source": [
    "### Entrenamiento"
   ]
  },
  {
   "cell_type": "code",
   "execution_count": 82,
   "id": "90032144",
   "metadata": {},
   "outputs": [
    {
     "data": {
      "text/html": [
       "<pre style=\"white-space:pre;overflow-x:auto;line-height:normal;font-family:Menlo,'DejaVu Sans Mono',consolas,'Courier New',monospace\">Tunning Random Forest\n",
       "</pre>\n"
      ],
      "text/plain": [
       "Tunning Random Forest\n"
      ]
     },
     "metadata": {},
     "output_type": "display_data"
    },
    {
     "name": "stderr",
     "output_type": "stream",
     "text": [
      "  0%|          | 0/4 [00:00<?, ?it/s]"
     ]
    },
    {
     "name": "stderr",
     "output_type": "stream",
     "text": [
      "Best trial: 0. Best value: -0.0647387: 100%|██████████| 4/4 [00:48<00:00, 12.16s/it]"
     ]
    },
    {
     "name": "stdout",
     "output_type": "stream",
     "text": [
      " Best score : -0.06473872622015502\n"
     ]
    },
    {
     "name": "stderr",
     "output_type": "stream",
     "text": [
      "\n"
     ]
    },
    {
     "data": {
      "text/html": [
       "<pre style=\"white-space:pre;overflow-x:auto;line-height:normal;font-family:Menlo,'DejaVu Sans Mono',consolas,'Courier New',monospace\">\n",
       "</pre>\n"
      ],
      "text/plain": [
       "\n"
      ]
     },
     "metadata": {},
     "output_type": "display_data"
    },
    {
     "data": {
      "text/html": [
       "<pre style=\"white-space:pre;overflow-x:auto;line-height:normal;font-family:Menlo,'DejaVu Sans Mono',consolas,'Courier New',monospace\">Tunning XGBoost\n",
       "</pre>\n"
      ],
      "text/plain": [
       "Tunning XGBoost\n"
      ]
     },
     "metadata": {},
     "output_type": "display_data"
    },
    {
     "name": "stderr",
     "output_type": "stream",
     "text": [
      "Best trial: 2. Best value: -0.0795165: 100%|██████████| 4/4 [00:11<00:00,  2.77s/it]"
     ]
    },
    {
     "name": "stdout",
     "output_type": "stream",
     "text": [
      " Best score : -0.0795165328881146\n"
     ]
    },
    {
     "name": "stderr",
     "output_type": "stream",
     "text": [
      "\n"
     ]
    },
    {
     "data": {
      "text/html": [
       "<pre style=\"white-space:pre;overflow-x:auto;line-height:normal;font-family:Menlo,'DejaVu Sans Mono',consolas,'Courier New',monospace\">\n",
       "</pre>\n"
      ],
      "text/plain": [
       "\n"
      ]
     },
     "metadata": {},
     "output_type": "display_data"
    },
    {
     "data": {
      "text/html": [
       "<pre style=\"white-space:pre;overflow-x:auto;line-height:normal;font-family:Menlo,'DejaVu Sans Mono',consolas,'Courier New',monospace\">Tunning LGBoost\n",
       "</pre>\n"
      ],
      "text/plain": [
       "Tunning LGBoost\n"
      ]
     },
     "metadata": {},
     "output_type": "display_data"
    },
    {
     "name": "stderr",
     "output_type": "stream",
     "text": [
      "Best trial: 0. Best value: -0.0692272: 100%|██████████| 4/4 [00:09<00:00,  2.28s/it]"
     ]
    },
    {
     "name": "stdout",
     "output_type": "stream",
     "text": [
      " Best score : -0.06922722411183864\n"
     ]
    },
    {
     "name": "stderr",
     "output_type": "stream",
     "text": [
      "\n"
     ]
    },
    {
     "data": {
      "text/html": [
       "<pre style=\"white-space:pre;overflow-x:auto;line-height:normal;font-family:Menlo,'DejaVu Sans Mono',consolas,'Courier New',monospace\">\n",
       "</pre>\n"
      ],
      "text/plain": [
       "\n"
      ]
     },
     "metadata": {},
     "output_type": "display_data"
    },
    {
     "data": {
      "text/html": [
       "<pre style=\"white-space:pre;overflow-x:auto;line-height:normal;font-family:Menlo,'DejaVu Sans Mono',consolas,'Courier New',monospace\">Tunning Elastic Net\n",
       "</pre>\n"
      ],
      "text/plain": [
       "Tunning Elastic Net\n"
      ]
     },
     "metadata": {},
     "output_type": "display_data"
    },
    {
     "name": "stderr",
     "output_type": "stream",
     "text": [
      "Best trial: 2. Best value: -0.220771: 100%|██████████| 4/4 [00:11<00:00,  2.80s/it]\n"
     ]
    },
    {
     "name": "stdout",
     "output_type": "stream",
     "text": [
      " Best score : -0.22077092795249992\n",
      "==================== Best model ====================\n",
      "ElasticNet(alpha=0.00012096012562789731, l1_ratio=0.3237744066896452,\n",
      "           max_iter=2817, tol=2.550417252541119e-05)\n",
      "\n",
      "\n",
      "==================================================\n",
      "REGRESSION METRICS\n",
      "==================================================\n",
      "MAE: 311830655.0843\n",
      "R²: 0.0052\n",
      "MAPE: 0.3449\n",
      "Explained Variance: 0.0055\n"
     ]
    }
   ],
   "source": [
    "from sklearn.ensemble import RandomForestRegressor\n",
    "from xgboost import XGBRegressor\n",
    "from lightgbm import LGBMRegressor\n",
    "from sklearn.linear_model import ElasticNet\n",
    "\n",
    "from src.evaluate import train_eval_model\n",
    "from src.training import (\n",
    "    optimize_hyperparameters,\n",
    "    objective_random_forest,\n",
    "    objective_lightgbm,\n",
    "    objective_xgboost,\n",
    "    objective_elastic_net\n",
    ") \n",
    "\n",
    "models = []\n",
    "scores = []\n",
    "print('Tunning Random Forest')\n",
    "best_params, score = optimize_hyperparameters(objective_random_forest, X_train, y_train.ravel())\n",
    "\n",
    "models.append(RandomForestRegressor(**best_params))\n",
    "scores.append(score)\n",
    "\n",
    "print()\n",
    "print('Tunning XGBoost')\n",
    "best_params, score = optimize_hyperparameters(objective_xgboost, X_train, y_train.ravel())\n",
    "models.append(XGBRegressor(**best_params))\n",
    "scores.append(score)\n",
    "\n",
    "print()\n",
    "print('Tunning LGBoost')\n",
    "best_params, score = optimize_hyperparameters(objective_lightgbm, X_train, y_train.ravel())\n",
    "models.append(LGBMRegressor(**best_params))\n",
    "scores.append(score)\n",
    "\n",
    "print()\n",
    "print('Tunning Elastic Net')\n",
    "best_params, score = optimize_hyperparameters(objective_elastic_net, X_train, y_train.ravel())\n",
    "models.append(ElasticNet(**best_params))\n",
    "scores.append(score)\n",
    "\n",
    "train_eval_model(models, scores, X_train, y_train, X_test, y_test, y_preprocessor = y_preprocessor)\n"
   ]
  }
 ],
 "metadata": {
  "kernelspec": {
   "display_name": ".venv",
   "language": "python",
   "name": "python3"
  },
  "language_info": {
   "codemirror_mode": {
    "name": "ipython",
    "version": 3
   },
   "file_extension": ".py",
   "mimetype": "text/x-python",
   "name": "python",
   "nbconvert_exporter": "python",
   "pygments_lexer": "ipython3",
   "version": "3.13.7"
  }
 },
 "nbformat": 4,
 "nbformat_minor": 5
}
