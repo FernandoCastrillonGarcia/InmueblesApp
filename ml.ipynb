{
 "cells": [
  {
   "cell_type": "code",
   "execution_count": 7,
   "id": "a0dbaf22",
   "metadata": {},
   "outputs": [
    {
     "name": "stdout",
     "output_type": "stream",
     "text": [
      "The autoreload extension is already loaded. To reload it, use:\n",
      "  %reload_ext autoreload\n"
     ]
    }
   ],
   "source": [
    "%load_ext autoreload\n",
    "%autoreload 2"
   ]
  },
  {
   "cell_type": "code",
   "execution_count": 8,
   "id": "20cf7889",
   "metadata": {},
   "outputs": [],
   "source": [
    "import pickle\n",
    "import json\n",
    "from rich import print\n",
    "\n",
    "import warnings\n",
    "warnings.filterwarnings('ignore')\n"
   ]
  },
  {
   "cell_type": "code",
   "execution_count": 9,
   "id": "1590dd95",
   "metadata": {},
   "outputs": [],
   "source": [
    "# Condif With Feature names\n",
    "with open('src/config.json', 'r') as f:\n",
    "    config_dict = json.load(f)\n",
    "\n",
    "y_column = config_dict['y_column']\n",
    "numeric_features = config_dict['numeric_features']\n",
    "categorical_features = config_dict['categorical_features']\n",
    "all_features = numeric_features + categorical_features\n",
    "\n",
    "# Processed Data\n",
    "with open('data/processed/ml_data.pkl', 'rb') as f:\n",
    "    data_dict = pickle.load(f)\n",
    "\n",
    "X_train = data_dict['X_train']\n",
    "X_test = data_dict['X_test']\n",
    "y_train = data_dict['y_train']\n",
    "y_test = data_dict['y_test']\n",
    "feature_names = data_dict['feature_names']\n",
    "X_preprocessor = data_dict['X_preprocessor']\n",
    "y_preprocessor = data_dict['y_preprocessor']"
   ]
  },
  {
   "cell_type": "code",
   "execution_count": 10,
   "id": "b6258153",
   "metadata": {},
   "outputs": [
    {
     "data": {
      "text/plain": [
       "array([[-0.01112705, -0.01112705, -0.01047677, ...,  0.        ,\n",
       "         0.        ,  0.        ],\n",
       "       [-0.01234849, -0.01234849, -0.01314327, ...,  0.        ,\n",
       "         0.        ,  0.        ],\n",
       "       [-0.01366211, -0.01366211, -0.01651414, ...,  0.        ,\n",
       "         0.        ,  0.        ],\n",
       "       ...,\n",
       "       [-0.01262504, -0.01262504, -0.01374701, ...,  0.        ,\n",
       "         0.        ,  0.        ],\n",
       "       [-0.01262504, -0.01262504, -0.01374701, ...,  0.        ,\n",
       "         0.        ,  0.        ],\n",
       "       [-0.01062004, -0.01062004, -0.00936992, ...,  0.        ,\n",
       "         0.        ,  0.        ]], shape=(9148, 38))"
      ]
     },
     "execution_count": 10,
     "metadata": {},
     "output_type": "execute_result"
    }
   ],
   "source": [
    "X_train"
   ]
  },
  {
   "cell_type": "code",
   "execution_count": 11,
   "id": "11b456a7",
   "metadata": {},
   "outputs": [
    {
     "data": {
      "text/plain": [
       "array([[-0.00937555, -0.00937555, -0.0066531 , ...,  0.        ,\n",
       "         0.        ,  0.        ],\n",
       "       [-0.01343165, -0.01343165, -0.01550791, ...,  0.        ,\n",
       "         0.        ,  0.        ],\n",
       "       [-0.00578037, -0.00578037, -0.01651414, ...,  0.        ,\n",
       "         0.        ,  0.        ],\n",
       "       ...,\n",
       "       [-0.01163406, -0.01163406, -0.01158362, ...,  0.        ,\n",
       "         0.        ,  0.        ],\n",
       "       [-0.01262504, -0.01262504, -0.01651414, ...,  0.        ,\n",
       "         0.        ,  0.        ],\n",
       "       [-0.00985952, -0.00985952, -0.00770964, ...,  0.        ,\n",
       "         0.        ,  0.        ]], shape=(2287, 38))"
      ]
     },
     "execution_count": 11,
     "metadata": {},
     "output_type": "execute_result"
    }
   ],
   "source": [
    "X_test"
   ]
  },
  {
   "cell_type": "markdown",
   "id": "7079c179",
   "metadata": {},
   "source": [
    "### Entrenamiento"
   ]
  },
  {
   "cell_type": "code",
   "execution_count": 12,
   "id": "90032144",
   "metadata": {},
   "outputs": [
    {
     "data": {
      "text/html": [
       "<pre style=\"white-space:pre;overflow-x:auto;line-height:normal;font-family:Menlo,'DejaVu Sans Mono',consolas,'Courier New',monospace\">Tunning Random Forest\n",
       "</pre>\n"
      ],
      "text/plain": [
       "Tunning Random Forest\n"
      ]
     },
     "metadata": {},
     "output_type": "display_data"
    },
    {
     "name": "stderr",
     "output_type": "stream",
     "text": [
      "Best trial: 85. Best value: -0.253546: 100%|██████████| 100/100 [12:02<00:00,  7.22s/it]"
     ]
    },
    {
     "name": "stdout",
     "output_type": "stream",
     "text": [
      " Best score : -0.25354566377080856\n"
     ]
    },
    {
     "name": "stderr",
     "output_type": "stream",
     "text": [
      "\n"
     ]
    },
    {
     "data": {
      "text/html": [
       "<pre style=\"white-space:pre;overflow-x:auto;line-height:normal;font-family:Menlo,'DejaVu Sans Mono',consolas,'Courier New',monospace\">\n",
       "</pre>\n"
      ],
      "text/plain": [
       "\n"
      ]
     },
     "metadata": {},
     "output_type": "display_data"
    },
    {
     "data": {
      "text/html": [
       "<pre style=\"white-space:pre;overflow-x:auto;line-height:normal;font-family:Menlo,'DejaVu Sans Mono',consolas,'Courier New',monospace\">Tunning XGBoost\n",
       "</pre>\n"
      ],
      "text/plain": [
       "Tunning XGBoost\n"
      ]
     },
     "metadata": {},
     "output_type": "display_data"
    },
    {
     "name": "stderr",
     "output_type": "stream",
     "text": [
      "Best trial: 76. Best value: -0.232845: 100%|██████████| 100/100 [02:42<00:00,  1.63s/it]"
     ]
    },
    {
     "name": "stdout",
     "output_type": "stream",
     "text": [
      " Best score : -0.23284487124215963\n"
     ]
    },
    {
     "name": "stderr",
     "output_type": "stream",
     "text": [
      "\n"
     ]
    },
    {
     "data": {
      "text/html": [
       "<pre style=\"white-space:pre;overflow-x:auto;line-height:normal;font-family:Menlo,'DejaVu Sans Mono',consolas,'Courier New',monospace\">\n",
       "</pre>\n"
      ],
      "text/plain": [
       "\n"
      ]
     },
     "metadata": {},
     "output_type": "display_data"
    },
    {
     "data": {
      "text/html": [
       "<pre style=\"white-space:pre;overflow-x:auto;line-height:normal;font-family:Menlo,'DejaVu Sans Mono',consolas,'Courier New',monospace\">Tunning LGBoost\n",
       "</pre>\n"
      ],
      "text/plain": [
       "Tunning LGBoost\n"
      ]
     },
     "metadata": {},
     "output_type": "display_data"
    },
    {
     "name": "stderr",
     "output_type": "stream",
     "text": [
      "Best trial: 54. Best value: -0.242407: 100%|██████████| 100/100 [04:44<00:00,  2.85s/it]"
     ]
    },
    {
     "name": "stdout",
     "output_type": "stream",
     "text": [
      " Best score : -0.24240729355108231\n"
     ]
    },
    {
     "name": "stderr",
     "output_type": "stream",
     "text": [
      "\n"
     ]
    },
    {
     "data": {
      "text/html": [
       "<pre style=\"white-space:pre;overflow-x:auto;line-height:normal;font-family:Menlo,'DejaVu Sans Mono',consolas,'Courier New',monospace\">\n",
       "</pre>\n"
      ],
      "text/plain": [
       "\n"
      ]
     },
     "metadata": {},
     "output_type": "display_data"
    },
    {
     "data": {
      "text/html": [
       "<pre style=\"white-space:pre;overflow-x:auto;line-height:normal;font-family:Menlo,'DejaVu Sans Mono',consolas,'Courier New',monospace\">Tunning Elastic Net\n",
       "</pre>\n"
      ],
      "text/plain": [
       "Tunning Elastic Net\n"
      ]
     },
     "metadata": {},
     "output_type": "display_data"
    },
    {
     "name": "stderr",
     "output_type": "stream",
     "text": [
      "Best trial: 4. Best value: -0.443049: 100%|██████████| 100/100 [00:11<00:00,  8.93it/s]"
     ]
    },
    {
     "name": "stdout",
     "output_type": "stream",
     "text": [
      " Best score : -0.44304917359295637\n",
      "==================== Best model ====================\n",
      "ElasticNet(alpha=0.0029916982921842443, l1_ratio=0.6158491851758152,\n",
      "           max_iter=1194, tol=1.4202183130417666e-05)\n",
      "\n",
      "\n",
      "==================================================\n",
      "REGRESSION METRICS\n",
      "==================================================\n",
      "MAE: 46654717.2636\n",
      "R²: -0.0005\n",
      "MAPE: 0.4846\n",
      "Explained Variance: -0.0000\n"
     ]
    },
    {
     "name": "stderr",
     "output_type": "stream",
     "text": [
      "\n"
     ]
    }
   ],
   "source": [
    "from sklearn.ensemble import RandomForestRegressor\n",
    "from xgboost import XGBRegressor\n",
    "from lightgbm import LGBMRegressor\n",
    "from sklearn.linear_model import ElasticNet\n",
    "\n",
    "from src.evaluate import train_eval_model\n",
    "from src.training import (\n",
    "    optimize_hyperparameters,\n",
    "    objective_random_forest,\n",
    "    objective_lightgbm,\n",
    "    objective_xgboost,\n",
    "    objective_elastic_net\n",
    ") \n",
    "\n",
    "models = []\n",
    "scores = []\n",
    "print('Tunning Random Forest')\n",
    "best_params, score = optimize_hyperparameters(objective_random_forest, X_train, y_train.ravel())\n",
    "\n",
    "models.append(RandomForestRegressor(**best_params))\n",
    "scores.append(score)\n",
    "\n",
    "print()\n",
    "print('Tunning XGBoost')\n",
    "best_params, score = optimize_hyperparameters(objective_xgboost, X_train, y_train.ravel())\n",
    "models.append(XGBRegressor(**best_params))\n",
    "scores.append(score)\n",
    "\n",
    "print()\n",
    "print('Tunning LGBoost')\n",
    "best_params, score = optimize_hyperparameters(objective_lightgbm, X_train, y_train.ravel())\n",
    "models.append(LGBMRegressor(**best_params))\n",
    "scores.append(score)\n",
    "\n",
    "print()\n",
    "print('Tunning Elastic Net')\n",
    "best_params, score = optimize_hyperparameters(objective_elastic_net, X_train, y_train.ravel())\n",
    "models.append(ElasticNet(**best_params))\n",
    "scores.append(score)\n",
    "\n",
    "train_eval_model(models, scores, X_train, y_train, X_test, y_test, y_preprocessor = y_preprocessor)\n"
   ]
  }
 ],
 "metadata": {
  "kernelspec": {
   "display_name": ".venv",
   "language": "python",
   "name": "python3"
  },
  "language_info": {
   "codemirror_mode": {
    "name": "ipython",
    "version": 3
   },
   "file_extension": ".py",
   "mimetype": "text/x-python",
   "name": "python",
   "nbconvert_exporter": "python",
   "pygments_lexer": "ipython3",
   "version": "3.13.6"
  }
 },
 "nbformat": 4,
 "nbformat_minor": 5
}
