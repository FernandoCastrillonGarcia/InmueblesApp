{
 "cells": [
  {
   "cell_type": "code",
   "execution_count": 19,
   "id": "0f1db438",
   "metadata": {},
   "outputs": [
    {
     "name": "stdout",
     "output_type": "stream",
     "text": [
      "The autoreload extension is already loaded. To reload it, use:\n",
      "  %reload_ext autoreload\n"
     ]
    }
   ],
   "source": [
    "%load_ext autoreload\n",
    "%autoreload 2\n",
    "\n",
    "import os\n",
    "import sys\n",
    "\n",
    "# Ruta absoluta al directorio principal del proyecto\n",
    "proyecto_path = os.path.abspath(os.path.join(os.getcwd(), \"..\"))\n",
    "\n",
    "# Agregar la ruta al sistema\n",
    "if proyecto_path not in sys.path:\n",
    "    sys.path.append(proyecto_path)"
   ]
  },
  {
   "cell_type": "code",
   "execution_count": 20,
   "id": "6ce0390f",
   "metadata": {},
   "outputs": [],
   "source": [
    "from sklearn.preprocessing import StandardScaler, OneHotEncoder, FunctionTransformer, QuantileTransformer\n",
    "from sklearn.model_selection import train_test_split\n",
    "from sklearn.compose import ColumnTransformer\n",
    "from sklearn.impute import SimpleImputer\n",
    "from sklearn.pipeline import Pipeline\n",
    "\n",
    "import pandas as pd\n",
    "import numpy as np\n",
    "import json\n",
    "\n",
    "from src.preprocess import DropNullColumns, TrimmColumns"
   ]
  },
  {
   "cell_type": "code",
   "execution_count": 21,
   "id": "37f932b1",
   "metadata": {},
   "outputs": [],
   "source": [
    "with open('../src/config.json', 'r') as f:\n",
    "    config_dict = json.load(f)\n",
    "\n",
    "y_column = config_dict['y_column']\n",
    "numeric_features = config_dict['numeric_features']\n",
    "categorical_features = config_dict['categorical_features']\n",
    "all_features = numeric_features + categorical_features\n",
    "\n",
    "\n",
    "df = pd.read_csv(\"../data/interim/data_v2.csv\", sep=';')\n"
   ]
  },
  {
   "cell_type": "code",
   "execution_count": 22,
   "id": "9f59b9fa",
   "metadata": {},
   "outputs": [],
   "source": [
    "\n",
    "# DELETE PIPELINE\n",
    "cutter = Pipeline([\n",
    "    ('dropna', DropNullColumns()),\n",
    "    ('trimmer', TrimmColumns(['AREA','PRICE'], tail = 'upper')),  \n",
    "])\n",
    "\n",
    "numeric_transformer = Pipeline([\n",
    "    (\"imputer\", SimpleImputer(strategy=\"median\")),\n",
    "    # (\"log_transform\", FunctionTransformer(np.log1p, validate=True)),\n",
    "    (\"scaler\", StandardScaler())\n",
    "])\n",
    "\n",
    "categorical_transformer = Pipeline([\n",
    "    (\"encoder\", OneHotEncoder(handle_unknown=\"ignore\", sparse_output=False))\n",
    "])\n",
    "\n",
    "X_preprocessor = ColumnTransformer(\n",
    "    transformers=[\n",
    "        (\"num\", numeric_transformer, numeric_features),\n",
    "        (\"cat\", categorical_transformer, categorical_features),\n",
    "    ]\n",
    ")\n",
    "\n",
    "y_preprocessor = Pipeline([\n",
    "    #(\"log_transform\", FunctionTransformer(np.log1p, inverse_func = np.expm1)),\n",
    "    (\"quantile\", QuantileTransformer(output_distribution='normal')),\n",
    "    #(\"scaler\", StandardScaler())\n",
    "])"
   ]
  },
  {
   "cell_type": "code",
   "execution_count": 23,
   "id": "01b31482",
   "metadata": {},
   "outputs": [],
   "source": [
    "# df_final = cutter.fit_transform(df)\n",
    "df_final = df.copy()\n",
    "\n",
    "# Split the data\n",
    "X_train, X_test, y_train, y_test = train_test_split(df_final[all_features], df_final[y_column], test_size=0.2, random_state=42)\n",
    "\n",
    "X_train_processed = X_preprocessor.fit_transform(X_train)\n",
    "y_train_processed = y_preprocessor.fit_transform(y_train)\n",
    "X_test_processed = X_preprocessor.transform(X_test)"
   ]
  },
  {
   "cell_type": "code",
   "execution_count": 24,
   "id": "03277ba0",
   "metadata": {},
   "outputs": [
    {
     "data": {
      "text/plain": [
       "array([[-0.01112705, -0.01112705, -0.01047677, ...,  0.        ,\n",
       "         0.        ,  0.        ],\n",
       "       [-0.01234849, -0.01234849, -0.01314327, ...,  0.        ,\n",
       "         0.        ,  0.        ],\n",
       "       [-0.01366211, -0.01366211, -0.01651414, ...,  0.        ,\n",
       "         0.        ,  0.        ],\n",
       "       ...,\n",
       "       [-0.01262504, -0.01262504, -0.01374701, ...,  0.        ,\n",
       "         0.        ,  0.        ],\n",
       "       [-0.01262504, -0.01262504, -0.01374701, ...,  0.        ,\n",
       "         0.        ,  0.        ],\n",
       "       [-0.01062004, -0.01062004, -0.00936992, ...,  0.        ,\n",
       "         0.        ,  0.        ]], shape=(9148, 38))"
      ]
     },
     "execution_count": 24,
     "metadata": {},
     "output_type": "execute_result"
    }
   ],
   "source": [
    "X_train_processed"
   ]
  },
  {
   "cell_type": "code",
   "execution_count": 25,
   "id": "896ad17b",
   "metadata": {},
   "outputs": [
    {
     "data": {
      "text/plain": [
       "array([[-0.11694087],\n",
       "       [-0.07615383],\n",
       "       [-0.99585764],\n",
       "       ...,\n",
       "       [-1.33406614],\n",
       "       [-2.17595139],\n",
       "       [ 0.1483936 ]], shape=(9148, 1))"
      ]
     },
     "execution_count": 25,
     "metadata": {},
     "output_type": "execute_result"
    }
   ],
   "source": [
    "y_train_processed"
   ]
  },
  {
   "cell_type": "code",
   "execution_count": 26,
   "id": "513474d2",
   "metadata": {},
   "outputs": [
    {
     "data": {
      "text/plain": [
       "array([[-0.00937555, -0.00937555, -0.0066531 , ...,  0.        ,\n",
       "         0.        ,  0.        ],\n",
       "       [-0.01343165, -0.01343165, -0.01550791, ...,  0.        ,\n",
       "         0.        ,  0.        ],\n",
       "       [-0.00578037, -0.00578037, -0.01651414, ...,  0.        ,\n",
       "         0.        ,  0.        ],\n",
       "       ...,\n",
       "       [-0.01163406, -0.01163406, -0.01158362, ...,  0.        ,\n",
       "         0.        ,  0.        ],\n",
       "       [-0.01262504, -0.01262504, -0.01651414, ...,  0.        ,\n",
       "         0.        ,  0.        ],\n",
       "       [-0.00985952, -0.00985952, -0.00770964, ...,  0.        ,\n",
       "         0.        ,  0.        ]], shape=(2287, 38))"
      ]
     },
     "execution_count": 26,
     "metadata": {},
     "output_type": "execute_result"
    }
   ],
   "source": [
    "X_test_processed"
   ]
  },
  {
   "cell_type": "code",
   "execution_count": 27,
   "id": "bbe59d8a",
   "metadata": {},
   "outputs": [],
   "source": [
    "import pickle\n",
    "\n",
    "# Save (good for preprocessed data + metadata)\n",
    "data_dict = {\n",
    "    'X_train': X_train_processed,\n",
    "    'X_test': X_test_processed,\n",
    "    'y_train': y_train_processed,\n",
    "    'y_test': y_test,\n",
    "    'feature_names': all_features,\n",
    "    'X_preprocessor': X_preprocessor,\n",
    "    'y_preprocessor': y_preprocessor\n",
    "}\n",
    "\n",
    "with open('../data/processed/ml_data.pkl', 'wb') as f:\n",
    "    pickle.dump(data_dict, f)\n"
   ]
  }
 ],
 "metadata": {
  "kernelspec": {
   "display_name": ".venv",
   "language": "python",
   "name": "python3"
  },
  "language_info": {
   "codemirror_mode": {
    "name": "ipython",
    "version": 3
   },
   "file_extension": ".py",
   "mimetype": "text/x-python",
   "name": "python",
   "nbconvert_exporter": "python",
   "pygments_lexer": "ipython3",
   "version": "3.13.6"
  }
 },
 "nbformat": 4,
 "nbformat_minor": 5
}
