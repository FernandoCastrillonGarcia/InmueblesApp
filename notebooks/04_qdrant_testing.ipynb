{
 "cells": [
  {
   "cell_type": "code",
   "execution_count": 1,
   "id": "99981da7",
   "metadata": {},
   "outputs": [],
   "source": [
    "%load_ext autoreload\n",
    "%autoreload 2\n",
    "\n",
    "import os\n",
    "import sys\n",
    "\n",
    "# Ruta absoluta al directorio principal del proyecto\n",
    "proyecto_path = os.path.abspath(os.path.join(os.getcwd(), \"..\"))\n",
    "\n",
    "# Agregar la ruta al sistema\n",
    "if proyecto_path not in sys.path:\n",
    "    sys.path.append(proyecto_path)"
   ]
  },
  {
   "cell_type": "code",
   "execution_count": 2,
   "id": "31484b81",
   "metadata": {},
   "outputs": [
    {
     "data": {
      "text/plain": [
       "<qdrant_client.qdrant_client.QdrantClient at 0x7f0aa4e3e3c0>"
      ]
     },
     "execution_count": 2,
     "metadata": {},
     "output_type": "execute_result"
    }
   ],
   "source": [
    "from src.database import QdrantSingleton\n",
    "\n",
    "client = QdrantSingleton(local=True).get_client()\n",
    "client"
   ]
  },
  {
   "cell_type": "code",
   "execution_count": null,
   "id": "de5be3f7",
   "metadata": {},
   "outputs": [],
   "source": [
    "from qdrant_client.models import Distance, VectorParams\n",
    "\n",
    "client.create_collection(\n",
    "    collection_name=\"test_collection\",\n",
    "    vectors_config=VectorParams(size=4, distance=Distance.DOT),\n",
    ")"
   ]
  },
  {
   "cell_type": "code",
   "execution_count": 6,
   "id": "1b459351",
   "metadata": {},
   "outputs": [
    {
     "name": "stdout",
     "output_type": "stream",
     "text": [
      "operation_id=0 status=<UpdateStatus.COMPLETED: 'completed'>\n"
     ]
    }
   ],
   "source": [
    "from qdrant_client.models import PointStruct\n",
    "\n",
    "operation_info = client.upsert(\n",
    "    collection_name=\"test_collection\",\n",
    "    wait=True,\n",
    "    points=[\n",
    "        PointStruct(id=1, vector=[0.05, 0.61, 0.76, 0.74], payload={\"city\": \"Berlin\"}),\n",
    "        PointStruct(id=2, vector=[0.19, 0.81, 0.75, 0.11], payload={\"city\": \"London\"}),\n",
    "        PointStruct(id=3, vector=[0.36, 0.55, 0.47, 0.94], payload={\"city\": \"Moscow\"}),\n",
    "        PointStruct(id=4, vector=[0.18, 0.01, 0.85, 0.80], payload={\"city\": \"New York\"}),\n",
    "        PointStruct(id=5, vector=[0.24, 0.18, 0.22, 0.44], payload={\"city\": \"Beijing\"}),\n",
    "        PointStruct(id=6, vector=[0.35, 0.08, 0.11, 0.44], payload={\"city\": \"Mumbai\"}),\n",
    "    ],\n",
    ")\n",
    "\n",
    "print(operation_info)"
   ]
  },
  {
   "cell_type": "code",
   "execution_count": 7,
   "id": "e2cc9cd2",
   "metadata": {},
   "outputs": [
    {
     "data": {
      "text/plain": [
       "[ScoredPoint(id=4, version=0, score=1.362, payload=None, vector=None, shard_key=None, order_value=None),\n",
       " ScoredPoint(id=1, version=0, score=1.273, payload=None, vector=None, shard_key=None, order_value=None),\n",
       " ScoredPoint(id=3, version=0, score=1.208, payload=None, vector=None, shard_key=None, order_value=None)]"
      ]
     },
     "execution_count": 7,
     "metadata": {},
     "output_type": "execute_result"
    }
   ],
   "source": [
    "client.query_points(\n",
    "    collection_name=\"test_collection\",\n",
    "    query=[0.2, 0.1, 0.9, 0.7],\n",
    "    with_payload=False,\n",
    "    limit=3\n",
    ").points"
   ]
  },
  {
   "cell_type": "code",
   "execution_count": 14,
   "id": "3905b1cb",
   "metadata": {},
   "outputs": [
    {
     "data": {
      "text/plain": [
       "NoneType"
      ]
     },
     "execution_count": 14,
     "metadata": {},
     "output_type": "execute_result"
    }
   ],
   "source": [
    "type(point.vector)"
   ]
  },
  {
   "cell_type": "code",
   "execution_count": 17,
   "id": "d55ffaba",
   "metadata": {},
   "outputs": [
    {
     "data": {
      "text/plain": [
       "Record(id='00b8b1a7-56ab-58e3-86d3-f36bca64ec3b', payload={'WEB_PROPERTY_CODE': 192861874, 'PRICE': 1372000, 'PRICE_ADMIN_INCLUDED': 1650000, 'AREA': 80.0, 'LATITUDE': 4.714549004433, 'LONGITUDE': -74.115074879543, 'ANTIQUITY': 'Más de 30 años', 'CONSTRUCTION_YEAR': None, 'BUILT_AREA': 80.0, 'PRIVATE_AREA': 0.0, 'GARAGE': 0, 'BATHROOMS': 1, 'ROOMS': 3, 'FLOOR': 1, 'PROPERTY_TYPE': 'Apartamento', 'OPERATION_TYPE': 'Arriendo', 'STRATUM': 3, 'BEDROOMS': 3, 'LINK': 'www.fincaraiz.com.co/apartamento-en-arriendo-en-bolivia-bogota/192861874'}, vector=None, shard_key=None, order_value=None)"
      ]
     },
     "execution_count": 17,
     "metadata": {},
     "output_type": "execute_result"
    }
   ],
   "source": [
    "point"
   ]
  },
  {
   "cell_type": "code",
   "execution_count": 19,
   "id": "91a2f190",
   "metadata": {},
   "outputs": [
    {
     "data": {
      "text/plain": [
       "'00b8b1a7-56ab-58e3-86d3-f36bca64ec3b'"
      ]
     },
     "execution_count": 19,
     "metadata": {},
     "output_type": "execute_result"
    }
   ],
   "source": [
    "point.id"
   ]
  },
  {
   "cell_type": "code",
   "execution_count": 20,
   "id": "12d78c77",
   "metadata": {},
   "outputs": [],
   "source": [
    "from qdrant_client.models import UpdateVectors, PointStruct\n",
    "\n",
    "# Get all points with scroll\n",
    "offset = None\n",
    "while True:\n",
    "    result = client.scroll(\n",
    "        collection_name=\"Arriendo\",\n",
    "        limit=100,\n",
    "        offset=offset\n",
    "    )\n",
    "    \n",
    "    points, next_offset = result\n",
    "    \n",
    "    if not points:\n",
    "        break\n",
    "        \n",
    "    # Update points with corrected LINK\n",
    "    updates = []\n",
    "    for point in points:\n",
    "        if 'LINK' in point.payload and 'ficnaraiz' in point.payload['LINK']:\n",
    "            corrected_link = point.payload['LINK'].replace('ficnaraiz', 'fincaraiz')\n",
    "            point.payload['LINK'] = corrected_link\n",
    "            \n",
    "            try:\n",
    "                updates.append(PointStruct(\n",
    "                    id=point.id,\n",
    "                    vector=point.vector,\n",
    "                    payload=point.payload\n",
    "                ))\n",
    "            except:\n",
    "                pass\n",
    "    \n",
    "    # Upsert corrected points\n",
    "    if len(updates) > 0:\n",
    "        client.upsert(\n",
    "            collection_name=\"Arriendo\",\n",
    "            points=updates\n",
    "        )\n",
    "    \n",
    "    offset = next_offset\n",
    "    if offset is None:\n",
    "        break"
   ]
  },
  {
   "cell_type": "code",
   "execution_count": 3,
   "id": "19757855",
   "metadata": {},
   "outputs": [
    {
     "name": "stdout",
     "output_type": "stream",
     "text": [
      "✅ Index created for BUILT_AREA\n",
      "✅ Index created for GARAGE\n",
      "✅ Index created for BATHROOMS\n",
      "✅ Index created for ROOMS\n"
     ]
    }
   ],
   "source": [
    "from qdrant_client.models import PayloadSchemaType\n",
    "\n",
    "# Create indexes for filtering fields\n",
    "client = QdrantSingleton(local=False).get_client()\n",
    "\n",
    "indexes_to_create = [\n",
    "    (\"BUILT_AREA\", PayloadSchemaType.FLOAT),\n",
    "    (\"GARAGE\", PayloadSchemaType.INTEGER), \n",
    "    (\"BATHROOMS\", PayloadSchemaType.INTEGER),\n",
    "    (\"ROOMS\", PayloadSchemaType.INTEGER)\n",
    "]\n",
    "\n",
    "for field_name, schema_type in indexes_to_create:\n",
    "    try:\n",
    "        client.create_payload_index(\n",
    "            collection_name=\"Arriendo\",\n",
    "            field_name=field_name,\n",
    "            field_schema=schema_type\n",
    "        )\n",
    "        print(f\"✅ Index created for {field_name}\")\n",
    "    except Exception as e:\n",
    "        print(f\"❌ Error creating index for {field_name}: {e}\")"
   ]
  },
  {
   "cell_type": "code",
   "execution_count": null,
   "id": "e7a4e5b6",
   "metadata": {},
   "outputs": [],
   "source": [
    "from qdrant_client.models import Filter, FieldCondition, Range\n",
    "xd = {\"must\":[\"FieldCondition(key='BUILT_AREA', match=None, range=Range(lt=None, gt=None, gte=30.0, lte=60.0), geo_bounding_box=None, geo_radius=None, geo_polygon=None, values_count=None, is_empty=None, is_null=None)\",\"FieldCondition(key='GARAGE', match=None, range=Range(lt=None, gt=None, gte=2.0, lte=3.0), geo_bounding_box=None, geo_radius=None, geo_polygon=None, values_count=None, is_empty=None, is_null=None)\",\"FieldCondition(key='BATHROOMS', match=None, range=Range(lt=None, gt=None, gte=2.0, lte=3.0), geo_bounding_box=None, geo_radius=None, geo_polygon=None, values_count=None, is_empty=None, is_null=None)\",\"FieldCondition(key='ROOMS', match=None, range=Range(lt=None, gt=None, gte=2.0, lte=3.0), geo_bounding_box=None, geo_radius=None, geo_polygon=None, values_count=None, is_empty=None, is_null=None)\"]}\n",
    "# Test filtering - will fail if no index exists\n",
    "try:\n",
    "    result = client.scroll(\n",
    "        collection_name=\"Arriendo\",\n",
    "        scroll_filter=Filter(**xd),\n",
    "        limit=1\n",
    "    )\n",
    "    print(\"✅ BUILT_AREA index works - filtering successful\")\n",
    "except Exception as e:\n",
    "    print(f\"❌ Index issue: {e}\")"
   ]
  },
  {
   "cell_type": "code",
   "execution_count": 38,
   "id": "0f2bacf9",
   "metadata": {},
   "outputs": [],
   "source": [
    "# Filtros generales\n",
    "keys = [\"BUILT_AREA\", \"GARAGE\", \"BATHROOMS\", \"ROOMS\", \"FLOOR\"]\n",
    "ranges = []\n",
    "ranges.append([44,45])\n",
    "ranges.append([0,1])\n",
    "ranges.append([0,1])\n",
    "ranges.append([0,2])\n",
    "ranges.append([4,67])\n",
    "must_condition = [FieldCondition(key=key, range=Range(gte=range_tuple[0], lte=range_tuple[1]))\n",
    "    for key, range_tuple in zip(keys, ranges)]\n",
    "query_payload = {\n",
    "        'must':must_condition\n",
    "    }\n",
    "\n",
    "client = QdrantSingleton(local=False).get_client()\n",
    "import ollama\n",
    "vector = ollama.embed(model='nomic-embed-text', input=['momarods'])['embeddings'][0]\n",
    "\n",
    "\n",
    "search_result = client.query_points(\n",
    "collection_name=\"Arriendo\",\n",
    "query=vector,\n",
    "query_filter = Filter(**query_payload),\n",
    "with_payload=True,\n",
    "limit=12\n",
    ").points"
   ]
  },
  {
   "cell_type": "code",
   "execution_count": 40,
   "id": "66bde9d1",
   "metadata": {},
   "outputs": [
    {
     "name": "stdout",
     "output_type": "stream",
     "text": [
      "Existing indexes: ['GARAGE', 'BUILT_AREA', 'BATHROOMS', 'ROOMS']\n"
     ]
    }
   ],
   "source": [
    "client = QdrantSingleton(local=False).get_client()\n",
    "collection_info = client.get_collection(\"Arriendo\")\n",
    "print(\"Existing indexes:\", list(collection_info.payload_schema.keys()))"
   ]
  },
  {
   "cell_type": "code",
   "execution_count": 32,
   "id": "e096ef88",
   "metadata": {},
   "outputs": [],
   "source": [
    "# Run this in your notebook connected to cloud\n",
    "from src.database import QdrantSingleton\n",
    "from qdrant_client.models import PayloadSchemaType\n",
    "\n",
    "client = QdrantSingleton(local=False).get_client()  # Cloud connection\n",
    "\n",
    "for field_name, schema_type in [\n",
    "    (\"BUILT_AREA\", PayloadSchemaType.FLOAT),\n",
    "    (\"GARAGE\", PayloadSchemaType.INTEGER), \n",
    "    (\"BATHROOMS\", PayloadSchemaType.INTEGER),\n",
    "    (\"ROOMS\", PayloadSchemaType.INTEGER)\n",
    "]:\n",
    "    client.create_payload_index(\n",
    "        collection_name=\"Arriendo\",\n",
    "        field_name=field_name,\n",
    "        field_schema=schema_type\n",
    "    )"
   ]
  },
  {
   "cell_type": "code",
   "execution_count": 22,
   "id": "68ffe1bf",
   "metadata": {},
   "outputs": [
    {
     "name": "stdout",
     "output_type": "stream",
     "text": [
      "Vector type: <class 'list'>\n",
      "Vector shape: 1 x 768\n"
     ]
    }
   ],
   "source": [
    "# Debug your vector format\n",
    "print(f\"Vector type: {type(vector)}\")\n",
    "print(f\"Vector shape: {len(vector)} x {len(vector[0]) if vector else 'None'}\")\n",
    "\n",
    "# Try flattening if it's nested\n",
    "if isinstance(vector, list) and isinstance(vector[0], list):\n",
    "    vector = vector[0]  # Take first embedding"
   ]
  },
  {
   "cell_type": "code",
   "execution_count": 24,
   "id": "e98805d7",
   "metadata": {},
   "outputs": [
    {
     "name": "stdout",
     "output_type": "stream",
     "text": [
      "Vector length: 768\n",
      "First few values: [0.05826387, 0.007860063, -0.14971018, 0.011191034, -0.014298193]\n"
     ]
    }
   ],
   "source": [
    "# Ensure single vector format\n",
    "vector = ollama.embed(model='nomic-embed-text', input=['momarods'])['embeddings'][0]\n",
    "\n",
    "# Verify it's a flat list of floats\n",
    "print(f\"Vector length: {len(vector)}\")\n",
    "print(f\"First few values: {vector[:5]}\")"
   ]
  }
 ],
 "metadata": {
  "kernelspec": {
   "display_name": ".venv",
   "language": "python",
   "name": "python3"
  },
  "language_info": {
   "codemirror_mode": {
    "name": "ipython",
    "version": 3
   },
   "file_extension": ".py",
   "mimetype": "text/x-python",
   "name": "python",
   "nbconvert_exporter": "python",
   "pygments_lexer": "ipython3",
   "version": "3.13.7"
  }
 },
 "nbformat": 4,
 "nbformat_minor": 5
}
