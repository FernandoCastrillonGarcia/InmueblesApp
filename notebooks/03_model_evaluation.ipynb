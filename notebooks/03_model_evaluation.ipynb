{
 "cells": [
  {
   "cell_type": "code",
   "execution_count": 19,
   "id": "a0dbaf22",
   "metadata": {},
   "outputs": [
    {
     "name": "stdout",
     "output_type": "stream",
     "text": [
      "The autoreload extension is already loaded. To reload it, use:\n",
      "  %reload_ext autoreload\n"
     ]
    }
   ],
   "source": [
    "%load_ext autoreload\n",
    "%autoreload 2\n",
    "\n",
    "import os\n",
    "import sys\n",
    "\n",
    "# Ruta absoluta al directorio principal del proyecto\n",
    "proyecto_path = os.path.abspath(os.path.join(os.getcwd(), \"..\"))\n",
    "\n",
    "# Agregar la ruta al sistema\n",
    "if proyecto_path not in sys.path:\n",
    "    sys.path.append(proyecto_path)"
   ]
  },
  {
   "cell_type": "code",
   "execution_count": 20,
   "id": "20cf7889",
   "metadata": {},
   "outputs": [],
   "source": [
    "from rich import print\n",
    "\n",
    "from sklearn.ensemble import RandomForestRegressor\n",
    "from xgboost import XGBRegressor\n",
    "from lightgbm import LGBMRegressor\n",
    "from sklearn.linear_model import ElasticNet\n",
    "\n",
    "from src.evaluate import regression_metrics\n",
    "from src.training import (\n",
    "    optimize_hyperparameters,\n",
    "    objective_random_forest,\n",
    "    objective_lightgbm,\n",
    "    objective_xgboost,\n",
    "    objective_elastic_net\n",
    ") \n",
    "\n",
    "import pandas as pd\n",
    "import warnings\n",
    "import pickle\n",
    "import json\n",
    "warnings.filterwarnings('ignore')\n"
   ]
  },
  {
   "cell_type": "code",
   "execution_count": 21,
   "id": "1590dd95",
   "metadata": {},
   "outputs": [],
   "source": [
    "# Config With Feature names\n",
    "with open('../src/config.json', 'r') as f:\n",
    "    config_dict = json.load(f)\n",
    "\n",
    "y_column = config_dict['y_column']\n",
    "numeric_features = config_dict['numeric_features']\n",
    "categorical_features = config_dict['categorical_features']\n",
    "all_features = numeric_features + categorical_features\n",
    "\n",
    "# Processed Data\n",
    "with open('../data/processed/ml_data.pkl', 'rb') as f:\n",
    "    data_dict = pickle.load(f)\n",
    "\n",
    "X_train = data_dict['X_train']\n",
    "X_test = data_dict['X_test']\n",
    "y_train = data_dict['y_train']\n",
    "y_test = data_dict['y_test']\n",
    "feature_names = data_dict['feature_names']\n",
    "X_preprocessor = data_dict['X_preprocessor']\n",
    "y_preprocessor = data_dict['y_preprocessor']"
   ]
  },
  {
   "cell_type": "code",
   "execution_count": 22,
   "id": "b6258153",
   "metadata": {},
   "outputs": [
    {
     "data": {
      "text/plain": [
       "array([[-0.66862534, -0.66862534, -0.35708416, ...,  0.        ,\n",
       "         0.        ,  1.        ],\n",
       "       [-0.72347218, -0.72347218, -0.1641197 , ...,  0.        ,\n",
       "         0.        ,  1.        ],\n",
       "       [-1.03884154, -1.03884154, -0.35708416, ...,  1.        ,\n",
       "         0.        ,  1.        ],\n",
       "       ...,\n",
       "       [ 1.84061781,  1.84061781, -0.35708416, ...,  0.        ,\n",
       "         0.        ,  1.        ],\n",
       "       [-0.66862534, -0.66862534, -0.14574214, ...,  0.        ,\n",
       "         0.        ,  1.        ],\n",
       "       [-0.97028298, -0.97028298, -0.35708416, ...,  1.        ,\n",
       "         0.        ,  1.        ]], shape=(8512, 19))"
      ]
     },
     "execution_count": 22,
     "metadata": {},
     "output_type": "execute_result"
    }
   ],
   "source": [
    "X_train"
   ]
  },
  {
   "cell_type": "code",
   "execution_count": 23,
   "id": "11b456a7",
   "metadata": {},
   "outputs": [
    {
     "data": {
      "text/plain": [
       "array([[-0.81945416, -0.81945416, -0.19628045, ...,  0.        ,\n",
       "         0.        ,  1.        ],\n",
       "       [-0.47666138, -0.47666138, -0.09060943, ...,  0.        ,\n",
       "         0.        ,  1.        ],\n",
       "       [ 0.59285209,  0.59285209,  0.27694191, ...,  0.        ,\n",
       "         0.        ,  1.        ],\n",
       "       ...,\n",
       "       [ 0.57914038,  0.57914038,  0.27234752, ...,  0.        ,\n",
       "         0.        ,  1.        ],\n",
       "       [-0.88801272, -0.88801272, -0.21006362, ...,  0.        ,\n",
       "         1.        ,  0.        ],\n",
       "       [-0.47666138, -0.47666138, -0.35708416, ...,  0.        ,\n",
       "         1.        ,  0.        ]], shape=(2129, 19))"
      ]
     },
     "execution_count": 23,
     "metadata": {},
     "output_type": "execute_result"
    }
   ],
   "source": [
    "X_test"
   ]
  },
  {
   "cell_type": "code",
   "execution_count": 24,
   "id": "e924c0d7",
   "metadata": {},
   "outputs": [
    {
     "data": {
      "text/plain": [
       "array([[-0.08031837],\n",
       "       [-0.11944609],\n",
       "       [-0.68001258],\n",
       "       ...,\n",
       "       [ 5.19933758],\n",
       "       [-0.9127741 ],\n",
       "       [-0.40880512]], shape=(8512, 1))"
      ]
     },
     "execution_count": 24,
     "metadata": {},
     "output_type": "execute_result"
    }
   ],
   "source": [
    "y_train"
   ]
  },
  {
   "cell_type": "markdown",
   "id": "7079c179",
   "metadata": {},
   "source": [
    "### Entrenamiento"
   ]
  },
  {
   "cell_type": "code",
   "execution_count": 25,
   "id": "90032144",
   "metadata": {},
   "outputs": [
    {
     "data": {
      "text/html": [
       "<pre style=\"white-space:pre;overflow-x:auto;line-height:normal;font-family:Menlo,'DejaVu Sans Mono',consolas,'Courier New',monospace\">Tunning Random Forest\n",
       "</pre>\n"
      ],
      "text/plain": [
       "Tunning Random Forest\n"
      ]
     },
     "metadata": {},
     "output_type": "display_data"
    },
    {
     "name": "stderr",
     "output_type": "stream",
     "text": [
      "  0%|          | 0/50 [00:00<?, ?it/s]"
     ]
    },
    {
     "name": "stderr",
     "output_type": "stream",
     "text": [
      "Best trial: 7. Best value: 0.371562: 100%|██████████| 50/50 [05:52<00:00,  7.06s/it]\n"
     ]
    },
    {
     "name": "stdout",
     "output_type": "stream",
     "text": [
      "==================================================\n",
      "Training\n",
      "==================================================\n",
      "MAPE: 14.2 % \n",
      "MDAPE: 7.7 % \n",
      "R2: 88.4 % \n",
      "explained_variance_score: 88.8 % \n",
      "\n",
      "\n",
      "MAE: 624,016.04 \n",
      "RMSE: 1,297,255.76 \n",
      "\n",
      "\n",
      "Mean Residual: -255,198.4791\n",
      "Std Residual: 1,271,906.5390\n",
      "Max Error: 10,700,000.0000\n",
      "==================================================\n",
      "Test\n",
      "==================================================\n",
      "MAPE: 28.1 % \n",
      "MDAPE: 15.2 % \n",
      "R2: 76.3 % \n",
      "explained_variance_score: 76.7 % \n",
      "\n",
      "\n",
      "MAE: 1,131,074.39 \n",
      "RMSE: 1,998,275.51 \n",
      "\n",
      "\n",
      "Mean Residual: -267,182.0362\n",
      "Std Residual: 1,980,332.9942\n",
      "Max Error: 11,505,502.7867\n"
     ]
    }
   ],
   "source": [
    "train_metrics_list = []\n",
    "test_metrics_list = []\n",
    "\n",
    "print('Tunning Random Forest')\n",
    "best_params = optimize_hyperparameters(objective_random_forest, X_train, y_train.ravel())\n",
    "\n",
    "model = RandomForestRegressor(**best_params)\n",
    "model.fit(X_train, y_train)\n",
    "\n",
    "y_train_raw = model.predict(X_train)\n",
    "y_test_raw = model.predict(X_test)\n",
    "\n",
    "y_train_orig = y_preprocessor.inverse_transform(y_train.reshape(-1, 1)).flatten()\n",
    "y_train_pred = y_preprocessor.inverse_transform(y_train_raw.reshape(-1, 1)).flatten()\n",
    "y_test_pred = y_preprocessor.inverse_transform(y_test_raw.reshape(-1, 1)).flatten()\n",
    "\n",
    "train_metrics = regression_metrics(y_train_orig, y_train_pred, title = 'Training') | {'model': 'random_forest'}\n",
    "test_metrics = regression_metrics(y_test, y_test_pred, title = 'Test') | {'model': 'random_forest'}\n",
    "train_metrics_list.append(train_metrics)\n",
    "test_metrics_list.append(test_metrics)\n",
    "\n",
    "with open('../models/random_forest_optuna.pkl', 'wb') as f:\n",
    "    pickle.dump(model, f)\n"
   ]
  },
  {
   "cell_type": "code",
   "execution_count": 26,
   "id": "676aa887",
   "metadata": {},
   "outputs": [
    {
     "data": {
      "text/html": [
       "<pre style=\"white-space:pre;overflow-x:auto;line-height:normal;font-family:Menlo,'DejaVu Sans Mono',consolas,'Courier New',monospace\">Tunning XGBoost\n",
       "</pre>\n"
      ],
      "text/plain": [
       "Tunning XGBoost\n"
      ]
     },
     "metadata": {},
     "output_type": "display_data"
    },
    {
     "name": "stderr",
     "output_type": "stream",
     "text": [
      "Best trial: 41. Best value: 0.379923: 100%|██████████| 50/50 [00:55<00:00,  1.11s/it]\n"
     ]
    },
    {
     "name": "stdout",
     "output_type": "stream",
     "text": [
      "==================================================\n",
      "Training\n",
      "==================================================\n",
      "MAPE: 18.3 % \n",
      "MDAPE: 12.8 % \n",
      "R2: 88.3 % \n",
      "explained_variance_score: 88.4 % \n",
      "\n",
      "\n",
      "MAE: 749,662.59 \n",
      "RMSE: 1,303,875.66 \n",
      "\n",
      "\n",
      "Mean Residual: -108,330.1424\n",
      "Std Residual: 1,299,367.6623\n",
      "Max Error: 8,685,010.0000\n",
      "==================================================\n",
      "Test\n",
      "==================================================\n",
      "MAPE: 27.3 % \n",
      "MDAPE: 16.7 % \n",
      "R2: 77.0 % \n",
      "explained_variance_score: 77.3 % \n",
      "\n",
      "\n",
      "MAE: 1,143,684.53 \n",
      "RMSE: 1,966,607.77 \n",
      "\n",
      "\n",
      "Mean Residual: -229,357.7360\n",
      "Std Residual: 1,953,187.4384\n",
      "Max Error: 11,000,000.0000\n"
     ]
    }
   ],
   "source": [
    "print('Tunning XGBoost')\n",
    "best_params = optimize_hyperparameters(objective_xgboost, X_train, y_train.ravel())\n",
    "model = XGBRegressor(**best_params)\n",
    "model.fit(X_train, y_train)\n",
    "\n",
    "y_train_raw = model.predict(X_train)\n",
    "y_test_raw = model.predict(X_test)\n",
    "\n",
    "y_train_orig = y_preprocessor.inverse_transform(y_train.reshape(-1, 1)).flatten()\n",
    "y_train_pred = y_preprocessor.inverse_transform(y_train_raw.reshape(-1, 1)).flatten()\n",
    "y_test_pred = y_preprocessor.inverse_transform(y_test_raw.reshape(-1, 1)).flatten()\n",
    "\n",
    "train_metrics = regression_metrics(y_train_orig, y_train_pred, title = 'Training') | {'model': 'xgboost'}\n",
    "test_metrics = regression_metrics(y_test, y_test_pred, title = 'Test') | {'model': 'xgboost'}\n",
    "train_metrics_list.append(train_metrics)\n",
    "test_metrics_list.append(test_metrics)\n",
    "\n",
    "train_metrics_list\n",
    "with open('../models/xgboost_optuna.pkl', 'wb') as f:\n",
    "    pickle.dump(model, f)\n"
   ]
  },
  {
   "cell_type": "code",
   "execution_count": 27,
   "id": "ae775d8a",
   "metadata": {},
   "outputs": [
    {
     "data": {
      "text/html": [
       "<pre style=\"white-space:pre;overflow-x:auto;line-height:normal;font-family:Menlo,'DejaVu Sans Mono',consolas,'Courier New',monospace\">Tunning LGBM\n",
       "</pre>\n"
      ],
      "text/plain": [
       "Tunning LGBM\n"
      ]
     },
     "metadata": {},
     "output_type": "display_data"
    },
    {
     "name": "stderr",
     "output_type": "stream",
     "text": [
      "Best trial: 34. Best value: 0.365359: 100%|██████████| 50/50 [01:47<00:00,  2.16s/it]\n"
     ]
    },
    {
     "name": "stdout",
     "output_type": "stream",
     "text": [
      "==================================================\n",
      "Training\n",
      "==================================================\n",
      "MAPE: 15.2 % \n",
      "MDAPE: 10.3 % \n",
      "R2: 90.6 % \n",
      "explained_variance_score: 90.7 % \n",
      "\n",
      "\n",
      "MAE: 640,116.38 \n",
      "RMSE: 1,167,714.29 \n",
      "\n",
      "\n",
      "Mean Residual: -114,964.0566\n",
      "Std Residual: 1,162,041.2788\n",
      "Max Error: 8,588,128.8240\n",
      "==================================================\n",
      "Test\n",
      "==================================================\n",
      "MAPE: 26.4 % \n",
      "MDAPE: 15.6 % \n",
      "R2: 76.3 % \n",
      "explained_variance_score: 76.5 % \n",
      "\n",
      "\n",
      "MAE: 1,135,505.84 \n",
      "RMSE: 1,998,774.27 \n",
      "\n",
      "\n",
      "Mean Residual: -208,358.0996\n",
      "Std Residual: 1,987,884.6727\n",
      "Max Error: 10,711,254.9500\n"
     ]
    }
   ],
   "source": [
    "print('Tunning LGBM')\n",
    "best_params = optimize_hyperparameters(objective_lightgbm, X_train, y_train.ravel())\n",
    "model = LGBMRegressor(verbose=-1, **best_params)\n",
    "model.fit(X_train, y_train)\n",
    "\n",
    "y_train_raw = model.predict(X_train)\n",
    "y_test_raw = model.predict(X_test)\n",
    "\n",
    "y_train_orig = y_preprocessor.inverse_transform(y_train.reshape(-1, 1)).flatten()\n",
    "y_train_pred = y_preprocessor.inverse_transform(y_train_raw.reshape(-1, 1)).flatten()\n",
    "y_test_pred = y_preprocessor.inverse_transform(y_test_raw.reshape(-1, 1)).flatten()\n",
    "\n",
    "train_metrics = regression_metrics(y_train_orig, y_train_pred, title = 'Training') | {'model': 'lgbm'}\n",
    "test_metrics = regression_metrics(y_test, y_test_pred, title = 'Test') | {'model': 'lgbm'}\n",
    "train_metrics_list.append(train_metrics)\n",
    "test_metrics_list.append(test_metrics)\n",
    "\n",
    "with open('../models/lgbm_optuna.pkl', 'wb') as f:\n",
    "    pickle.dump(model, f)\n"
   ]
  },
  {
   "cell_type": "code",
   "execution_count": 28,
   "id": "a9d5b635",
   "metadata": {},
   "outputs": [
    {
     "data": {
      "text/html": [
       "<pre style=\"white-space:pre;overflow-x:auto;line-height:normal;font-family:Menlo,'DejaVu Sans Mono',consolas,'Courier New',monospace\">Tunning Elastic Net\n",
       "</pre>\n"
      ],
      "text/plain": [
       "Tunning Elastic Net\n"
      ]
     },
     "metadata": {},
     "output_type": "display_data"
    },
    {
     "name": "stderr",
     "output_type": "stream",
     "text": [
      "Best trial: 44. Best value: 0.581318: 100%|██████████| 50/50 [00:02<00:00, 23.01it/s]\n"
     ]
    },
    {
     "name": "stdout",
     "output_type": "stream",
     "text": [
      "==================================================\n",
      "Training\n",
      "==================================================\n",
      "MAPE: 38.3 % \n",
      "MDAPE: 25.6 % \n",
      "R2: 58.5 % \n",
      "explained_variance_score: 58.6 % \n",
      "\n",
      "\n",
      "MAE: 1,459,458.18 \n",
      "RMSE: 2,452,537.27 \n",
      "\n",
      "\n",
      "Mean Residual: -101,717.6225\n",
      "Std Residual: 2,450,427.0221\n",
      "Max Error: 12,649,825.0810\n",
      "==================================================\n",
      "Test\n",
      "==================================================\n",
      "MAPE: 39.6 % \n",
      "MDAPE: 26.4 % \n",
      "R2: 60.2 % \n",
      "explained_variance_score: 60.2 % \n",
      "\n",
      "\n",
      "MAE: 1,596,899.73 \n",
      "RMSE: 2,589,071.70 \n",
      "\n",
      "\n",
      "Mean Residual: -16,298.4836\n",
      "Std Residual: 2,589,020.4022\n",
      "Max Error: 14,500,000.0000\n"
     ]
    }
   ],
   "source": [
    "print('Tunning Elastic Net')\n",
    "best_params = optimize_hyperparameters(objective_elastic_net, X_train, y_train.ravel())\n",
    "model = ElasticNet(**best_params)\n",
    "model.fit(X_train, y_train)\n",
    "\n",
    "y_train_raw = model.predict(X_train)\n",
    "y_test_raw = model.predict(X_test)\n",
    "\n",
    "y_train_orig = y_preprocessor.inverse_transform(y_train.reshape(-1, 1)).flatten()\n",
    "y_train_pred = y_preprocessor.inverse_transform(y_train_raw.reshape(-1, 1)).flatten()\n",
    "y_test_pred = y_preprocessor.inverse_transform(y_test_raw.reshape(-1, 1)).flatten()\n",
    "\n",
    "train_metrics = regression_metrics(y_train_orig, y_train_pred, title = 'Training') | {'model': 'elastic_net'}\n",
    "test_metrics = regression_metrics(y_test, y_test_pred, title = 'Test') | {'model': 'elastic_net'}\n",
    "train_metrics_list.append(train_metrics)\n",
    "test_metrics_list.append(test_metrics)\n",
    "\n",
    "with open('../models/elastic_net_optuna.pkl', 'wb') as f:\n",
    "    pickle.dump(model, f)"
   ]
  },
  {
   "cell_type": "code",
   "execution_count": 29,
   "id": "505998fe",
   "metadata": {},
   "outputs": [
    {
     "data": {
      "text/html": [
       "<div>\n",
       "<style scoped>\n",
       "    .dataframe tbody tr th:only-of-type {\n",
       "        vertical-align: middle;\n",
       "    }\n",
       "\n",
       "    .dataframe tbody tr th {\n",
       "        vertical-align: top;\n",
       "    }\n",
       "\n",
       "    .dataframe thead th {\n",
       "        text-align: right;\n",
       "    }\n",
       "</style>\n",
       "<table border=\"1\" class=\"dataframe\">\n",
       "  <thead>\n",
       "    <tr style=\"text-align: right;\">\n",
       "      <th></th>\n",
       "      <th>MAPE</th>\n",
       "      <th>MDAPE</th>\n",
       "      <th>R2</th>\n",
       "      <th>explained_variance_score</th>\n",
       "      <th>MAE</th>\n",
       "      <th>RMSE</th>\n",
       "      <th>Mean Residual</th>\n",
       "      <th>Std Residual</th>\n",
       "      <th>Max Error</th>\n",
       "      <th>model</th>\n",
       "      <th>Set</th>\n",
       "    </tr>\n",
       "  </thead>\n",
       "  <tbody>\n",
       "    <tr>\n",
       "      <th>0</th>\n",
       "      <td>0.142391</td>\n",
       "      <td>0.076923</td>\n",
       "      <td>0.883989</td>\n",
       "      <td>0.888479</td>\n",
       "      <td>6.240160e+05</td>\n",
       "      <td>1.297256e+06</td>\n",
       "      <td>-255198.479138</td>\n",
       "      <td>1.271907e+06</td>\n",
       "      <td>1.070000e+07</td>\n",
       "      <td>random_forest</td>\n",
       "      <td>Training</td>\n",
       "    </tr>\n",
       "    <tr>\n",
       "      <th>1</th>\n",
       "      <td>0.183368</td>\n",
       "      <td>0.127658</td>\n",
       "      <td>0.882802</td>\n",
       "      <td>0.883611</td>\n",
       "      <td>7.496626e+05</td>\n",
       "      <td>1.303876e+06</td>\n",
       "      <td>-108330.142357</td>\n",
       "      <td>1.299368e+06</td>\n",
       "      <td>8.685010e+06</td>\n",
       "      <td>xgboost</td>\n",
       "      <td>Training</td>\n",
       "    </tr>\n",
       "    <tr>\n",
       "      <th>2</th>\n",
       "      <td>0.152079</td>\n",
       "      <td>0.102540</td>\n",
       "      <td>0.906002</td>\n",
       "      <td>0.906913</td>\n",
       "      <td>6.401164e+05</td>\n",
       "      <td>1.167714e+06</td>\n",
       "      <td>-114964.056633</td>\n",
       "      <td>1.162041e+06</td>\n",
       "      <td>8.588129e+06</td>\n",
       "      <td>lgbm</td>\n",
       "      <td>Training</td>\n",
       "    </tr>\n",
       "    <tr>\n",
       "      <th>3</th>\n",
       "      <td>0.383297</td>\n",
       "      <td>0.255530</td>\n",
       "      <td>0.585354</td>\n",
       "      <td>0.586067</td>\n",
       "      <td>1.459458e+06</td>\n",
       "      <td>2.452537e+06</td>\n",
       "      <td>-101717.622476</td>\n",
       "      <td>2.450427e+06</td>\n",
       "      <td>1.264983e+07</td>\n",
       "      <td>elastic_net</td>\n",
       "      <td>Training</td>\n",
       "    </tr>\n",
       "    <tr>\n",
       "      <th>0</th>\n",
       "      <td>0.281477</td>\n",
       "      <td>0.151515</td>\n",
       "      <td>0.762770</td>\n",
       "      <td>0.767011</td>\n",
       "      <td>1.131074e+06</td>\n",
       "      <td>1.998276e+06</td>\n",
       "      <td>-267182.036159</td>\n",
       "      <td>1.980333e+06</td>\n",
       "      <td>1.150550e+07</td>\n",
       "      <td>random_forest</td>\n",
       "      <td>Test</td>\n",
       "    </tr>\n",
       "    <tr>\n",
       "      <th>1</th>\n",
       "      <td>0.272558</td>\n",
       "      <td>0.166666</td>\n",
       "      <td>0.770229</td>\n",
       "      <td>0.773355</td>\n",
       "      <td>1.143685e+06</td>\n",
       "      <td>1.966608e+06</td>\n",
       "      <td>-229357.736026</td>\n",
       "      <td>1.953187e+06</td>\n",
       "      <td>1.100000e+07</td>\n",
       "      <td>xgboost</td>\n",
       "      <td>Test</td>\n",
       "    </tr>\n",
       "    <tr>\n",
       "      <th>2</th>\n",
       "      <td>0.264401</td>\n",
       "      <td>0.155556</td>\n",
       "      <td>0.762651</td>\n",
       "      <td>0.765231</td>\n",
       "      <td>1.135506e+06</td>\n",
       "      <td>1.998774e+06</td>\n",
       "      <td>-208358.099618</td>\n",
       "      <td>1.987885e+06</td>\n",
       "      <td>1.071125e+07</td>\n",
       "      <td>lgbm</td>\n",
       "      <td>Test</td>\n",
       "    </tr>\n",
       "    <tr>\n",
       "      <th>3</th>\n",
       "      <td>0.396090</td>\n",
       "      <td>0.263894</td>\n",
       "      <td>0.601758</td>\n",
       "      <td>0.601773</td>\n",
       "      <td>1.596900e+06</td>\n",
       "      <td>2.589072e+06</td>\n",
       "      <td>-16298.483572</td>\n",
       "      <td>2.589020e+06</td>\n",
       "      <td>1.450000e+07</td>\n",
       "      <td>elastic_net</td>\n",
       "      <td>Test</td>\n",
       "    </tr>\n",
       "  </tbody>\n",
       "</table>\n",
       "</div>"
      ],
      "text/plain": [
       "       MAPE     MDAPE        R2  explained_variance_score           MAE  \\\n",
       "0  0.142391  0.076923  0.883989                  0.888479  6.240160e+05   \n",
       "1  0.183368  0.127658  0.882802                  0.883611  7.496626e+05   \n",
       "2  0.152079  0.102540  0.906002                  0.906913  6.401164e+05   \n",
       "3  0.383297  0.255530  0.585354                  0.586067  1.459458e+06   \n",
       "0  0.281477  0.151515  0.762770                  0.767011  1.131074e+06   \n",
       "1  0.272558  0.166666  0.770229                  0.773355  1.143685e+06   \n",
       "2  0.264401  0.155556  0.762651                  0.765231  1.135506e+06   \n",
       "3  0.396090  0.263894  0.601758                  0.601773  1.596900e+06   \n",
       "\n",
       "           RMSE  Mean Residual  Std Residual     Max Error          model  \\\n",
       "0  1.297256e+06 -255198.479138  1.271907e+06  1.070000e+07  random_forest   \n",
       "1  1.303876e+06 -108330.142357  1.299368e+06  8.685010e+06        xgboost   \n",
       "2  1.167714e+06 -114964.056633  1.162041e+06  8.588129e+06           lgbm   \n",
       "3  2.452537e+06 -101717.622476  2.450427e+06  1.264983e+07    elastic_net   \n",
       "0  1.998276e+06 -267182.036159  1.980333e+06  1.150550e+07  random_forest   \n",
       "1  1.966608e+06 -229357.736026  1.953187e+06  1.100000e+07        xgboost   \n",
       "2  1.998774e+06 -208358.099618  1.987885e+06  1.071125e+07           lgbm   \n",
       "3  2.589072e+06  -16298.483572  2.589020e+06  1.450000e+07    elastic_net   \n",
       "\n",
       "        Set  \n",
       "0  Training  \n",
       "1  Training  \n",
       "2  Training  \n",
       "3  Training  \n",
       "0      Test  \n",
       "1      Test  \n",
       "2      Test  \n",
       "3      Test  "
      ]
     },
     "execution_count": 29,
     "metadata": {},
     "output_type": "execute_result"
    }
   ],
   "source": [
    "train_metrics_df = pd.DataFrame(train_metrics_list)\n",
    "train_metrics_df['Set'] = 'Training'\n",
    "\n",
    "test_metrics_df = pd.DataFrame(test_metrics_list)\n",
    "test_metrics_df['Set'] = 'Test'\n",
    "\n",
    "metrics_df = pd.concat([train_metrics_df, test_metrics_df])\n",
    "metrics_df"
   ]
  },
  {
   "cell_type": "code",
   "execution_count": 30,
   "id": "857025d7",
   "metadata": {},
   "outputs": [
    {
     "data": {
      "image/png": "[encoded data removed]",
      "text/plain": [
       "<Figure size 1400x800 with 5 Axes>"
      ]
     },
     "metadata": {},
     "output_type": "display_data"
    }
   ],
   "source": [
    "import matplotlib.pyplot as plt\n",
    "import seaborn as sns\n",
    "\n",
    "plt.figure(figsize=(14, 8))\n",
    "metrics_to_plot = ['MAPE', 'MDAPE', 'R2', 'MAE', 'RMSE']\n",
    "for i, metric in enumerate(metrics_to_plot, 1):\n",
    "    plt.subplot(2, 3, i)\n",
    "    sns.barplot(\n",
    "        data=metrics_df,\n",
    "        x='model',\n",
    "        y=metric,\n",
    "        hue='Set'\n",
    "    )\n",
    "    plt.title(metric)\n",
    "    plt.xlabel('')\n",
    "    plt.ylabel(metric)\n",
    "    plt.legend(loc='best')\n",
    "plt.tight_layout()\n",
    "plt.show()\n"
   ]
  }
 ],
 "metadata": {
  "kernelspec": {
   "display_name": ".venv",
   "language": "python",
   "name": "python3"
  },
  "language_info": {
   "codemirror_mode": {
    "name": "ipython",
    "version": 3
   },
   "file_extension": ".py",
   "mimetype": "text/x-python",
   "name": "python",
   "nbconvert_exporter": "python",
   "pygments_lexer": "ipython3",
   "version": "3.13.7"
  }
 },
 "nbformat": 4,
 "nbformat_minor": 5
}
